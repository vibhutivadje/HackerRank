{
 "cells": [
  {
   "cell_type": "code",
   "execution_count": null,
   "metadata": {},
   "outputs": [],
   "source": [
    "Problem - 1:\n",
    "Algorithm that converts a given string to a list of strings. \n",
    "for example:\n",
    "s = \"accbb\". The strings in the list would be as follows: [\"accbb\", \"ccbba\", \"cbbac\", \"bbacc\", \"baccb\"]\n",
    "There are 2 strings in the list where the first and last letters are the same: [\"cbbac\",\"baccb\"]. Therefore, the answer is 2. "
   ]
  },
  {
   "cell_type": "code",
   "execution_count": 6,
   "metadata": {},
   "outputs": [
    {
     "data": {
      "text/plain": [
       "0"
      ]
     },
     "execution_count": 6,
     "metadata": {},
     "output_type": "execute_result"
    }
   ],
   "source": [
    "def countStrings(s):\n",
    "    if len(s)!=0 and :\n",
    "        return -1\n",
    "    \n",
    "    new_s = s\n",
    "    res = []\n",
    "    count = 0\n",
    "    res.append(new_s)\n",
    "    \n",
    "    for i in range(len(s)-1):\n",
    "        new_s = new_s[1:] + new_s[0]\n",
    "        res.append(new_s)\n",
    "    for j in res:\n",
    "        if j[0]==j[len(j)-1]:\n",
    "            count+=1\n",
    "    return count\n",
    "countStrings(s = \"abc\")\n",
    "#time complexity: O(n)\n"
   ]
  },
  {
   "cell_type": "code",
   "execution_count": null,
   "metadata": {},
   "outputs": [],
   "source": []
  }
 ],
 "metadata": {
  "kernelspec": {
   "display_name": "Python 3",
   "language": "python",
   "name": "python3"
  },
  "language_info": {
   "codemirror_mode": {
    "name": "ipython",
    "version": 3
   },
   "file_extension": ".py",
   "mimetype": "text/x-python",
   "name": "python",
   "nbconvert_exporter": "python",
   "pygments_lexer": "ipython3",
   "version": "3.7.7"
  }
 },
 "nbformat": 4,
 "nbformat_minor": 4
}
